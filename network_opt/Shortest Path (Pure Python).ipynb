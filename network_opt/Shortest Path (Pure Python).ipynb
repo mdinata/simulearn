{
 "cells": [
  {
   "cell_type": "markdown",
   "id": "23965927",
   "metadata": {},
   "source": [
    "## Shortest Path (Pure Python)\n",
    "\n",
    "Notebook author: Andi Dinata"
   ]
  },
  {
   "cell_type": "code",
   "execution_count": null,
   "id": "2de028a6",
   "metadata": {},
   "outputs": [],
   "source": [
    "X = 10000 \n",
    "stagesetup = {1:['O'],\n",
    "              2:['A','B','C'],\n",
    "              3:['D','E'],\n",
    "              4:['T']}\n",
    "\n",
    "city = [value for i in stagesetup.values() for value in i]\n",
    "stageresult=[]"
   ]
  },
  {
   "cell_type": "code",
   "execution_count": null,
   "id": "e476698c",
   "metadata": {},
   "outputs": [],
   "source": [
    "def getstage(cityname):\n",
    "    stagecities = [v for v in stagesetup.values() if cityname in v]\n",
    "    stagenum = [k for k, v in stagesetup.items() if v == stagecities[0]]\n",
    "    return stagenum"
   ]
  },
  {
   "cell_type": "code",
   "execution_count": null,
   "id": "0786ad42",
   "metadata": {},
   "outputs": [],
   "source": [
    "         # O  A  B  C  D  E  T\n",
    "fromto = [[X, 4, 6, 5, X, X, X], #0 \n",
    "          [X, X, 1, X, 7, X, X], #A\n",
    "          [X, 1, X, 2, 5, 4, X], #B\n",
    "          [X, X, 2, X, X, 5, X], #C\n",
    "          [X, X, X, X, X, 1, 6], #D\n",
    "          [X, X, X, X, 1, X, 8]] #E"
   ]
  },
  {
   "cell_type": "code",
   "execution_count": null,
   "id": "30df9f25",
   "metadata": {},
   "outputs": [],
   "source": [
    "n = len(fromto)+1\n",
    "path = [X] * n\n",
    "path[n-1] = 0\n",
    "\n",
    "for i in range(n - 2, -1, -1):\n",
    "    for j in range(n):\n",
    "        path[i] = min(path[i], path[j] + fromto[i][j])\n",
    "        if path[j] + fromto[i][j] < X:   \n",
    "            stageresult.append([getstage(city[i])[0],path[j] + fromto[i][j], city[i],city[j]])\n",
    "\n",
    "print(\"Shortest path from {} to {} is: {}\".format(city[0],city[-1],path[0]))\n",
    "print(\"Here is the path:\")\n",
    "for i in stagesetup.keys():\n",
    "    for j in sorted(stageresult):\n",
    "        if i == j[0]:\n",
    "            print(j)\n",
    "            break"
   ]
  }
 ],
 "metadata": {
  "kernelspec": {
   "display_name": "Python 3 (ipykernel)",
   "language": "python",
   "name": "python3"
  },
  "language_info": {
   "codemirror_mode": {
    "name": "ipython",
    "version": 3
   },
   "file_extension": ".py",
   "mimetype": "text/x-python",
   "name": "python",
   "nbconvert_exporter": "python",
   "pygments_lexer": "ipython3",
   "version": "3.9.12"
  }
 },
 "nbformat": 4,
 "nbformat_minor": 5
}
