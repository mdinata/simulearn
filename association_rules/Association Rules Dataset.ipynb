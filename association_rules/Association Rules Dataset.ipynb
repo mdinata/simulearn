{
 "cells": [
  {
   "cell_type": "markdown",
   "id": "dc030cbc-8445-4b0e-b5d5-22846fd3f802",
   "metadata": {},
   "source": [
    "# Association Rules"
   ]
  },
  {
   "cell_type": "markdown",
   "id": "2661570d-8729-442a-a165-7e858e19fc0b",
   "metadata": {},
   "source": [
    "Create random dataset"
   ]
  },
  {
   "cell_type": "code",
   "execution_count": 3,
   "id": "eb81b53c-7b16-401c-ad2e-25e787f24bc7",
   "metadata": {},
   "outputs": [],
   "source": [
    "import random\n",
    "import csv\n",
    "\n",
    "items = ['item1', 'item2', 'item3', 'item4', 'item5']\n",
    "num_transactions = 1000\n",
    "headers = ['Transaction'] + items\n",
    "rows=[]\n",
    "\n",
    "dataset = [random.sample(items,random.randint(1,5)) for i in range(num_transactions)]\n",
    "\n",
    "for i, transaction in enumerate(dataset):\n",
    "    row = [str(i + 1)]\n",
    "    \n",
    "    for item in items:\n",
    "        if item in transaction:\n",
    "            row.append('1')\n",
    "        else:\n",
    "            row.append('0')\n",
    "    \n",
    "    rows.append(row)\n",
    "\n",
    "with open('dataset_association_rules.csv', 'w', newline='') as file:\n",
    "    writer = csv.writer(file)\n",
    "    writer.writerow(headers)\n",
    "    writer.writerows(rows)"
   ]
  },
  {
   "cell_type": "code",
   "execution_count": null,
   "id": "b1e635a6-9559-41e2-bb75-bddddf83660f",
   "metadata": {},
   "outputs": [],
   "source": []
  }
 ],
 "metadata": {
  "kernelspec": {
   "display_name": "Python 3 (ipykernel)",
   "language": "python",
   "name": "python3"
  },
  "language_info": {
   "codemirror_mode": {
    "name": "ipython",
    "version": 3
   },
   "file_extension": ".py",
   "mimetype": "text/x-python",
   "name": "python",
   "nbconvert_exporter": "python",
   "pygments_lexer": "ipython3",
   "version": "3.9.16"
  }
 },
 "nbformat": 4,
 "nbformat_minor": 5
}
