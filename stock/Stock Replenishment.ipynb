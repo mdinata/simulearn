{
 "cells": [
  {
   "cell_type": "markdown",
   "id": "0644b190-fd55-42dc-8c38-50b8edc1e46c",
   "metadata": {},
   "source": [
    "# SOLVENT TANK REPLENISHMENT SIMULATION"
   ]
  },
  {
   "cell_type": "markdown",
   "id": "e0d7172a-74d6-476f-916e-6e6ac2870ad5",
   "metadata": {},
   "source": [
    "```\n",
    "Andi Dinata\n",
    "October 2023\n",
    "MIT License\n",
    "```"
   ]
  },
  {
   "cell_type": "code",
   "execution_count": 2,
   "id": "80a60a3f-1fdf-498b-ba62-cc37f372e522",
   "metadata": {},
   "outputs": [],
   "source": [
    "import matplotlib.pyplot as plt\n",
    "import ipywidgets as widgets"
   ]
  },
  {
   "cell_type": "code",
   "execution_count": 3,
   "id": "ffbbe2c7-f23c-4728-8f31-1d9a1eb5b9fd",
   "metadata": {},
   "outputs": [],
   "source": [
    "capacity = widgets.IntText(value=78,description='Capacity (T):',disabled=False)\n",
    "stock = widgets.IntText(value=24,description='iStock (T):',disabled=False)\n",
    "usage = widgets.IntText(value=5,description='Usage/day (T)',disabled=False)\n",
    "lead_time = widgets.IntText(value=2,description='LT (days):',disabled=False)\n",
    "min_repl = widgets.IntText(value=10,description='Min.Qty (T):',disabled=False)\n",
    "duration = widgets.IntText(value=30,description='Length (days):',disabled=False)\n",
    "rop = widgets.RadioButtons(options=['full tank', 'as per usage'],value='as per usage',description='ROP:',disabled=False)"
   ]
  },
  {
   "cell_type": "code",
   "execution_count": 9,
   "id": "38a16e74-0756-447f-a396-4a5430130fbc",
   "metadata": {},
   "outputs": [
    {
     "data": {
      "application/vnd.jupyter.widget-view+json": {
       "model_id": "386a0b77d2864a19a03e7204d0bfc6e4",
       "version_major": 2,
       "version_minor": 0
      },
      "text/plain": [
       "interactive(children=(IntText(value=20, description='Capacity (T):'), IntText(value=9, description='iStock (T)…"
      ]
     },
     "metadata": {},
     "output_type": "display_data"
    },
    {
     "data": {
      "text/plain": [
       "<function __main__.run(a, b, c, d, e, f, g)>"
      ]
     },
     "execution_count": 9,
     "metadata": {},
     "output_type": "execute_result"
    }
   ],
   "source": [
    "def run(a,b,c,d,e,f,g):\n",
    "    tank_capacity = a\n",
    "    initial_stock = b\n",
    "    daily_usage = c\n",
    "    delivery_lead_time = d\n",
    "    min_replenishment = e\n",
    "    simulation_duration = f\n",
    "    \n",
    "    safety_level = daily_usage * delivery_lead_time\n",
    "    \n",
    "    if g == 'full tank':\n",
    "        reorder_point = tank_capacity - min_replenishment\n",
    "    else:\n",
    "        reorder_point = ( daily_usage * delivery_lead_time ) + safety_level  # tons\n",
    "\n",
    "    max_replenishment = tank_capacity - reorder_point\n",
    "    \n",
    "    days = list(range(simulation_duration + 1))\n",
    "    stock = [initial_stock]\n",
    "    replenishment = [0]\n",
    "    \n",
    "    for day in range(1, simulation_duration + 1):\n",
    "        if stock[-1] < reorder_point:\n",
    "            if tank_capacity - reorder_point < reorder_point:\n",
    "                order_quantity = max(min_replenishment, max_replenishment - (max_replenishment%min_replenishment) )\n",
    "            else:\n",
    "                order_quantity = min_replenishment\n",
    "        else:\n",
    "            order_quantity = 0\n",
    "            \n",
    "        if day <= delivery_lead_time:\n",
    "            stock.append(stock[-1])\n",
    "        else:\n",
    "            stock.append(stock[-1] + order_quantity - daily_usage)\n",
    "    \n",
    "        replenishment.append(order_quantity)\n",
    "    \n",
    "    plt.figure(figsize=(10, 6))\n",
    "    \n",
    "    plt.annotate(f'Initial Stock: {stock[0]} tons', xy=(0, stock[0]), xytext=(0, stock[0]+5),\n",
    "                 arrowprops=dict(arrowstyle=\"->\"))\n",
    "    plt.annotate(f'End Stock: {stock[-1]} tons', xy=(simulation_duration, stock[-1]), xytext=(simulation_duration - 5, stock[-1] + 3),\n",
    "                 arrowprops=dict(arrowstyle=\"->\"))\n",
    "    \n",
    "    plt.fill_between(days, tank_capacity, reorder_point, color='green', alpha=0.5)\n",
    "    plt.fill_between(days, safety_level, reorder_point, color='yellow', alpha=0.5)\n",
    "    plt.fill_between(days, 0, safety_level, color='red', alpha=0.5)\n",
    "    \n",
    "    plt.plot(days, stock, color='black',label='Stock')\n",
    "    plt.plot(days[delivery_lead_time:], replenishment[delivery_lead_time:], label='Replenishment', linestyle='--')\n",
    "    plt.axhline(reorder_point, color='blue', linestyle='--', label='Reorder Point')\n",
    "    plt.axhline(tank_capacity, color='green', linestyle='--', label='Tank Capacity')\n",
    "    plt.axhline(safety_level, color='red', linestyle='--', label='Safety level')\n",
    "    plt.xlabel('Days')\n",
    "    plt.ylabel('Inventory (T)')\n",
    "    subtitle = f'End stock: {stock[-1]}T, Total PO:{sum(replenishment)} T, Delivery cycle: {sum([1 for i in replenishment if i !=0])} / month'\n",
    "    plt.title(f'Stock Replenishment Scenario\\n{subtitle}')\n",
    "    plt.legend(loc=3)\n",
    "    plt.grid(True)\n",
    "    plt.show()\n",
    "    \n",
    "widgets.interact(run,a=capacity,b=stock,c=usage,d=lead_time,e=min_repl,f=duration,g=rop)"
   ]
  },
  {
   "cell_type": "code",
   "execution_count": null,
   "id": "40361150-6b4e-465f-a0d5-040512e5cfd0",
   "metadata": {},
   "outputs": [],
   "source": []
  }
 ],
 "metadata": {
  "kernelspec": {
   "display_name": "Python 3 (ipykernel)",
   "language": "python",
   "name": "python3"
  },
  "language_info": {
   "codemirror_mode": {
    "name": "ipython",
    "version": 3
   },
   "file_extension": ".py",
   "mimetype": "text/x-python",
   "name": "python",
   "nbconvert_exporter": "python",
   "pygments_lexer": "ipython3",
   "version": "3.11.4"
  }
 },
 "nbformat": 4,
 "nbformat_minor": 5
}
